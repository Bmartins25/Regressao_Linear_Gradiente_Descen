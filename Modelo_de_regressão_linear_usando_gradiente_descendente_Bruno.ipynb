{
  "nbformat": 4,
  "nbformat_minor": 0,
  "metadata": {
    "colab": {
      "provenance": [],
      "authorship_tag": "ABX9TyPOpZLf9/N5MtdGjllxyCy3",
      "include_colab_link": true
    },
    "kernelspec": {
      "name": "python3",
      "display_name": "Python 3"
    },
    "language_info": {
      "name": "python"
    }
  },
  "cells": [
    {
      "cell_type": "markdown",
      "metadata": {
        "id": "view-in-github",
        "colab_type": "text"
      },
      "source": [
        "<a href=\"https://colab.research.google.com/github/Bmartins25/Regressao_Linear_Gradiente_Descen/blob/main/Modelo_de_regress%C3%A3o_linear_usando_gradiente_descendente_Bruno.ipynb\" target=\"_parent\"><img src=\"https://colab.research.google.com/assets/colab-badge.svg\" alt=\"Open In Colab\"/></a>"
      ]
    },
    {
      "cell_type": "markdown",
      "source": [
        "Curso: Coursera\n",
        "Aluno: Bruno Martins Bartolomeu"
      ],
      "metadata": {
        "id": "vBQ5MO_DqZuR"
      }
    },
    {
      "cell_type": "code",
      "source": [
        "import numpy as np\n",
        "import matplotlib.pyplot as plt\n",
        "from utils import *  # Certifique-se de ter esse arquivo com funções auxiliares\n",
        "import copy\n",
        "import math\n"
      ],
      "metadata": {
        "id": "TXvMX55OpBiI"
      },
      "execution_count": 28,
      "outputs": []
    },
    {
      "cell_type": "code",
      "source": [
        "# Função para carregar os dados\n",
        "def load_data():\n",
        "    # Simulando um conjunto de dados de exemplo\n",
        "    x_train = np.array([6.1101, 5.5277, 8.5186, 7.0032, 5.8598])\n",
        "    y_train = np.array([17.592, 9.1302, 13.662, 11.854, 6.8233])\n",
        "    return x_train, y_train"
      ],
      "metadata": {
        "id": "gUpTjBi7p_1d"
      },
      "execution_count": 29,
      "outputs": []
    },
    {
      "cell_type": "code",
      "source": [
        "\n",
        "# Função para calcular o custo J(w, b)\n",
        "def compute_cost(x, y, w, b):\n",
        "    \"\"\"\n",
        "    Calcula a função de custo para regressão linear.\n",
        "    \"\"\"\n",
        "    m = x.shape[0]  # Número de exemplos de treinamento\n",
        "    cost_sum = 0\n",
        "\n",
        "    for i in range(m):\n",
        "        f_wb = w * x[i] + b  # Predição do modelo\n",
        "        cost = (f_wb - y[i]) ** 2  # Erro ao quadrado\n",
        "        cost_sum += cost\n",
        "\n",
        "    total_cost = (1 / (2 * m)) * cost_sum\n",
        "    return total_cost\n",
        "\n"
      ],
      "metadata": {
        "id": "a-9yMjIJpDaX"
      },
      "execution_count": 30,
      "outputs": []
    },
    {
      "cell_type": "code",
      "source": [
        "# Função para calcular os gradientes\n",
        "def compute_gradient(x, y, w, b):\n",
        "    \"\"\"\n",
        "    Calcula os gradientes para os parâmetros w e b.\n",
        "    \"\"\"\n",
        "    m = x.shape[0]  # Número de exemplos\n",
        "    dj_dw = 0\n",
        "    dj_db = 0\n",
        "\n",
        "    for i in range(m):\n",
        "        f_wb = w * x[i] + b  # Predição\n",
        "        dj_dw += (f_wb - y[i]) * x[i]\n",
        "        dj_db += (f_wb - y[i])\n",
        "\n",
        "    dj_dw /= m\n",
        "    dj_db /= m\n",
        "    return dj_dw, dj_db\n",
        "\n"
      ],
      "metadata": {
        "id": "xJERdhQBpFiH"
      },
      "execution_count": 31,
      "outputs": []
    },
    {
      "cell_type": "code",
      "source": [
        "# Algoritmo de Gradiente Descendente\n",
        "def gradient_descent(x, y, w_in, b_in, alpha, num_iters):\n",
        "    \"\"\"\n",
        "    Executa o gradiente descendente para aprender os parâmetros.\n",
        "    \"\"\"\n",
        "    m = len(x)\n",
        "    w = copy.deepcopy(w_in)\n",
        "    b = b_in\n",
        "    J_history = []\n",
        "\n",
        "    for i in range(num_iters):\n",
        "        dj_dw, dj_db = compute_gradient(x, y, w, b)\n",
        "        w -= alpha * dj_dw\n",
        "        b -= alpha * dj_db\n",
        "\n",
        "        if i < 100000:  # Evita uso excessivo de recursos\n",
        "            cost = compute_cost(x, y, w, b)\n",
        "            J_history.append(cost)\n",
        "\n",
        "        if i % (num_iters // 10) == 0:\n",
        "            print(f\"Iteração {i}: Custo {J_history[-1]:.2f}\")\n",
        "\n",
        "    return w, b, J_history\n",
        "\n"
      ],
      "metadata": {
        "id": "o3v3dCVcpHNH"
      },
      "execution_count": 32,
      "outputs": []
    },
    {
      "cell_type": "code",
      "source": [
        "# Carregar os dados\n",
        "x_train, y_train = load_data()\n",
        "\n"
      ],
      "metadata": {
        "id": "um-5jMXNpIpG"
      },
      "execution_count": 33,
      "outputs": []
    },
    {
      "cell_type": "code",
      "source": [
        "# Configuração inicial\n",
        "theta_w = 0.\n",
        "theta_b = 0.\n",
        "alpha = 0.01  # Taxa de aprendizado\n",
        "iterations = 1500  # Número de iterações\n",
        "\n",
        "\n"
      ],
      "metadata": {
        "id": "A2zdj5LzpLqc"
      },
      "execution_count": 34,
      "outputs": []
    },
    {
      "cell_type": "code",
      "source": [
        "# Executando o Gradiente Descendente\n",
        "w_final, b_final, _ = gradient_descent(x_train, y_train, theta_w, theta_b, alpha, iterations)\n",
        "print(f\"Parâmetros finais: w = {w_final:.6f}, b = {b_final:.6f}\")\n",
        "\n"
      ],
      "metadata": {
        "colab": {
          "base_uri": "https://localhost:8080/"
        },
        "id": "-rRIzOrjpMtc",
        "outputId": "2e7263eb-7f5f-44d6-bd66-f0b74641c894"
      },
      "execution_count": 35,
      "outputs": [
        {
          "output_type": "stream",
          "name": "stdout",
          "text": [
            "Iteração 0: Custo 26.87\n",
            "Iteração 150: Custo 6.09\n",
            "Iteração 300: Custo 6.08\n",
            "Iteração 450: Custo 6.07\n",
            "Iteração 600: Custo 6.07\n",
            "Iteração 750: Custo 6.06\n",
            "Iteração 900: Custo 6.05\n",
            "Iteração 1050: Custo 6.05\n",
            "Iteração 1200: Custo 6.04\n",
            "Iteração 1350: Custo 6.04\n",
            "Parâmetros finais: w = 1.587859, b = 1.270673\n"
          ]
        }
      ]
    },
    {
      "cell_type": "code",
      "source": [
        "# Previsões para populações específicas\n",
        "pop1 = 3.5\n",
        "pop2 = 7.0\n",
        "predict1 = pop1 * w_final + b_final\n",
        "predict2 = pop2 * w_final + b_final\n",
        "print(f\"Previsão para população de 35.000: ${predict1 * 10000:.2f}\")\n",
        "print(f\"Previsão para população de 70.000: ${predict2 * 10000:.2f}\")\n",
        "\n"
      ],
      "metadata": {
        "colab": {
          "base_uri": "https://localhost:8080/"
        },
        "id": "Il1SUByapORG",
        "outputId": "8eef6f1b-8e49-4d2b-922b-a6d2a6806a3f"
      },
      "execution_count": 36,
      "outputs": [
        {
          "output_type": "stream",
          "name": "stdout",
          "text": [
            "Previsão para população de 35.000: $68281.80\n",
            "Previsão para população de 70.000: $123856.87\n"
          ]
        }
      ]
    },
    {
      "cell_type": "code",
      "source": [
        "# Plotando os resultados\n",
        "plt.scatter(x_train, y_train, marker='x', c='r', label=\"Dados reais\")\n",
        "plt.plot(x_train, w_final * x_train + b_final, label=\"Regressão Linear\")\n",
        "plt.xlabel(\"População da Cidade (10.000s)\")\n",
        "plt.ylabel(\"Lucro ($10.000s)\")\n",
        "plt.title(\"Regressão Linear - Profits vs Population\")\n",
        "plt.legend()\n",
        "plt.grid(True)\n",
        "plt.show()"
      ],
      "metadata": {
        "colab": {
          "base_uri": "https://localhost:8080/",
          "height": 472
        },
        "id": "_Y0WWeEdpPUh",
        "outputId": "e1a395a7-372a-4184-a0e8-e3e7d26a75f2"
      },
      "execution_count": 41,
      "outputs": [
        {
          "output_type": "display_data",
          "data": {
            "text/plain": [
              "<Figure size 640x480 with 1 Axes>"
            ],
            "image/png": "[encoded data removed]"
          },
          "metadata": {}
        }
      ]
    }
  ]
}